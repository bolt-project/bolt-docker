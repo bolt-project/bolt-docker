{
 "cells": [
  {
   "cell_type": "markdown",
   "metadata": {},
   "source": [
    "<div class=\"clearfix\" style=\"padding: 0px; padding-left: 0px;\">\n",
    "<a href=\"http://bolt-project.org\"><img src=\"http://bolt-project.org/images/header-logo-small.svg\" width=\"300px\"  style=\"display: inline-block; margin-left: 0px;\"></a>\n",
    "</div>\n",
    "\n",
    "<p class='header-1'>Welcome to <span style='font-weight:800'>Bolt</span></p>\n",
    "\n",
    "<p class='info-text'>Bolt is an Python project for working with ndarrays on small, medium, and very large data sets. It exposes array operations through either local or distributed implementations with a common interface, and makes it easy to switch between them. Its distributed implementation currently targets Spark, a powerful cluster computing framework. These notebooks are interactive tutorials running inside Docker containers powered by <a class='call-link bolt' href='https://github.com/jupyter/tmpnb'>tmbnb</a> that show how Bolt works.</p>\n",
    "\n",
    "<p class='info-text'>For more information on Bolt, visit the <a class='call-link bolt' href='http://bolt-project.org'>project</a> page or come <a class='call-link bolt' href='http://gitter.im/bolt-project/bolt'>chat</a> with us.</p>\n",
    "\n",
    "<p class='header-2'>Tutorials</p>\n",
    "\n",
    "<a class='call-link bolt' href='tutorials/basic-usage.ipynb'>Basic usage</a>\n",
    "\n",
    "<a class='call-link bolt' href='tutorials/axes.ipynb'>Manipulating axes</a>\n",
    "\n",
    "<a class='call-link bolt' href='tutorials/stacking.ipynb'>Stacking (with scikit-learn application)</a>\n",
    "\n",
    "<a class='call-link bolt' href='tutorials/chunking.ipynb'>Chunking (with scikit-image application)</a>\n",
    "\n",
    "<br>"
   ]
  }
 ],
 "metadata": {
  "kernelspec": {
   "display_name": "Python 2",
   "language": "python",
   "name": "python2"
  },
  "language_info": {
   "codemirror_mode": {
    "name": "ipython",
    "version": 2
   },
   "file_extension": ".py",
   "mimetype": "text/x-python",
   "name": "python",
   "nbconvert_exporter": "python",
   "pygments_lexer": "ipython2",
   "version": "2.7.9"
  }
 },
 "nbformat": 4,
 "nbformat_minor": 0
}
